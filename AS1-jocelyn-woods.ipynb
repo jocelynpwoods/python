{
 "cells": [
  {
   "cell_type": "code",
   "execution_count": 52,
   "metadata": {},
   "outputs": [],
   "source": [
    "# five container variables with fruits\n",
    "# print out what is stored in each container"
   ]
  },
  {
   "cell_type": "code",
   "execution_count": 13,
   "metadata": {},
   "outputs": [],
   "source": [
    "bowl = \"grapes\""
   ]
  },
  {
   "cell_type": "code",
   "execution_count": 42,
   "metadata": {},
   "outputs": [
    {
     "name": "stdout",
     "output_type": "stream",
     "text": [
      "The bowl contains grapes\n"
     ]
    }
   ],
   "source": [
    "print \"The bowl contains\" + \" \" + bowl"
   ]
  },
  {
   "cell_type": "code",
   "execution_count": 27,
   "metadata": {},
   "outputs": [],
   "source": [
    "jar = \"apples\""
   ]
  },
  {
   "cell_type": "code",
   "execution_count": 31,
   "metadata": {},
   "outputs": [
    {
     "name": "stdout",
     "output_type": "stream",
     "text": [
      "The jar contains berries\n"
     ]
    }
   ],
   "source": [
    "print \"The jar contains\" + \" \" + jar"
   ]
  },
  {
   "cell_type": "code",
   "execution_count": 32,
   "metadata": {},
   "outputs": [],
   "source": [
    "bucket = \"strawberries\""
   ]
  },
  {
   "cell_type": "code",
   "execution_count": 18,
   "metadata": {},
   "outputs": [
    {
     "name": "stdout",
     "output_type": "stream",
     "text": [
      "The bucket contains strawberries\n"
     ]
    }
   ],
   "source": [
    "print \"The bucket contains\" + \" \" + bucket "
   ]
  },
  {
   "cell_type": "code",
   "execution_count": 11,
   "metadata": {},
   "outputs": [],
   "source": [
    "tupperware = \"watermelon\""
   ]
  },
  {
   "cell_type": "code",
   "execution_count": 33,
   "metadata": {},
   "outputs": [
    {
     "name": "stdout",
     "output_type": "stream",
     "text": [
      "The tupperware contains watermelon\n"
     ]
    }
   ],
   "source": [
    "print \"The tupperware contains\" + \" \" + tupperware"
   ]
  },
  {
   "cell_type": "code",
   "execution_count": 21,
   "metadata": {},
   "outputs": [],
   "source": [
    "basket = \"oranges\""
   ]
  },
  {
   "cell_type": "code",
   "execution_count": 22,
   "metadata": {},
   "outputs": [
    {
     "name": "stdout",
     "output_type": "stream",
     "text": [
      "The basket contains oranges\n"
     ]
    }
   ],
   "source": [
    "print \"The basket contains\" + \" \" + basket"
   ]
  },
  {
   "cell_type": "code",
   "execution_count": 54,
   "metadata": {},
   "outputs": [],
   "source": [
    "# store the provided quote in a variable and then print out the variable"
   ]
  },
  {
   "cell_type": "code",
   "execution_count": 51,
   "metadata": {
    "scrolled": false
   },
   "outputs": [
    {
     "name": "stdout",
     "output_type": "stream",
     "text": [
      "Klavan said that producers have \"called my agent asking, 'Why would you represent this guy?' Anything that lowers your odds is going to hurt.\"\n"
     ]
    }
   ],
   "source": [
    "sentence = \"Klavan said that producers have \\\"called my agent asking, 'Why would you represent this guy?' Anything that lowers your odds is going to hurt.\\\"\"\n",
    "\n",
    "print sentence"
   ]
  },
  {
   "cell_type": "code",
   "execution_count": null,
   "metadata": {},
   "outputs": [],
   "source": [
    "# create a list called \"presidents\" and store at least five names\n",
    "# print that entire list \n",
    "# print out the third item in the list"
   ]
  },
  {
   "cell_type": "code",
   "execution_count": 35,
   "metadata": {},
   "outputs": [
    {
     "name": "stdout",
     "output_type": "stream",
     "text": [
      "['Barack Obama', 'Dilma Rousseff', 'Luara Chinchilla', 'Cyril Ramaphosa', 'Moon Jae-in']\n"
     ]
    }
   ],
   "source": [
    "presidents = [\"Barack Obama\", \"Dilma Rousseff\", \"Luara Chinchilla\", \"Cyril Ramaphosa\", \"Moon Jae-in\"]\n",
    "print presidents"
   ]
  },
  {
   "cell_type": "code",
   "execution_count": 37,
   "metadata": {},
   "outputs": [
    {
     "name": "stdout",
     "output_type": "stream",
     "text": [
      "Luara Chinchilla\n"
     ]
    }
   ],
   "source": [
    "print presidents[2]"
   ]
  },
  {
   "cell_type": "code",
   "execution_count": null,
   "metadata": {},
   "outputs": [],
   "source": [
    "# create another list called \"birthyears\" and include matching birthyears for each president\n",
    "# print that entire list \n",
    "# print out the last item in that list "
   ]
  },
  {
   "cell_type": "code",
   "execution_count": 1,
   "metadata": {},
   "outputs": [
    {
     "name": "stdout",
     "output_type": "stream",
     "text": [
      "[1961, 1947, 1959, 1952, 1953]\n"
     ]
    }
   ],
   "source": [
    "birthyears = [1961, 1947, 1959, 1952, 1953]\n",
    "print birthyears"
   ]
  },
  {
   "cell_type": "code",
   "execution_count": 39,
   "metadata": {},
   "outputs": [
    {
     "name": "stdout",
     "output_type": "stream",
     "text": [
      "1953\n"
     ]
    }
   ],
   "source": [
    "print birthyears[-1]"
   ]
  },
  {
   "cell_type": "code",
   "execution_count": null,
   "metadata": {},
   "outputs": [],
   "source": [
    "# create a dictionary called \"pData\" including the data from task 3 and 4\n",
    "# print the dictionary"
   ]
  },
  {
   "cell_type": "code",
   "execution_count": 2,
   "metadata": {
    "scrolled": true
   },
   "outputs": [
    {
     "name": "stdout",
     "output_type": "stream",
     "text": [
      "{'Dilma Rousseff': 1947, 'Laura Chinchilla': 1959, 'Cyril Ramaphosa': 1952, 'Barack Obama': 1961, 'Moon Jae-in': 1953}\n"
     ]
    }
   ],
   "source": [
    "pData = {\"Barack Obama\":1961, \"Dilma Rousseff\":1947, \"Laura Chinchilla\":1959, \"Cyril Ramaphosa\":1952, \"Moon Jae-in\":1953}\n",
    "print pData"
   ]
  },
  {
   "cell_type": "code",
   "execution_count": null,
   "metadata": {},
   "outputs": [],
   "source": []
  }
 ],
 "metadata": {
  "kernelspec": {
   "display_name": "Python 2",
   "language": "python",
   "name": "python2"
  },
  "language_info": {
   "codemirror_mode": {
    "name": "ipython",
    "version": 2
   },
   "file_extension": ".py",
   "mimetype": "text/x-python",
   "name": "python",
   "nbconvert_exporter": "python",
   "pygments_lexer": "ipython2",
   "version": "2.7.10"
  }
 },
 "nbformat": 4,
 "nbformat_minor": 2
}
